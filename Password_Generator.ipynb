{
 "cells": [
  {
   "cell_type": "code",
   "execution_count": 1,
   "id": "83246b67",
   "metadata": {},
   "outputs": [
    {
     "name": "stdout",
     "output_type": "stream",
     "text": [
      "Substitution Key: {'a': 'k', 'b': 'v', 'c': 'q', 'd': 'o', 'e': 'y', 'f': 'w', 'g': 'a', 'h': 'b', 'i': 's', 'j': 'u', 'k': 'x', 'l': 'e', 'm': 'l', 'n': 'z', 'o': 'f', 'p': 'r', 'q': 'h', 'r': 'g', 's': 'd', 't': 'p', 'u': 't', 'v': 'm', 'w': 'j', 'x': 'i', 'y': 'n', 'z': 'c'}\n",
      "Encrypted Message: byeef, pbsd sd k dyqgyp lyddkay!\n",
      "Decrypted Message: hello, this is a secret message!\n"
     ]
    }
   ],
   "source": [
    "import random\n",
    "\n",
    "# Function to generate a random substitution key\n",
    "def generate_substitution_key():\n",
    "    alphabet = list('abcdefghijklmnopqrstuvwxyz')\n",
    "    shuffled_alphabet = alphabet.copy()\n",
    "    random.shuffle(shuffled_alphabet)\n",
    "    return dict(zip(alphabet, shuffled_alphabet))\n",
    "\n",
    "# Function to encrypt a message using a substitution cipher\n",
    "def encrypt_message(message, key):\n",
    "    encrypted_message = ''\n",
    "    for char in message.lower():\n",
    "        encrypted_message += key.get(char, char)\n",
    "    return encrypted_message\n",
    "\n",
    "# Function to decrypt a message using a substitution cipher\n",
    "def decrypt_message(encrypted_message, key):\n",
    "    decrypted_message = ''\n",
    "    for char in encrypted_message.lower():\n",
    "        decrypted_message += next((k for k, v in key.items() if v == char), char)\n",
    "    return decrypted_message\n",
    "\n",
    "# Example usage:\n",
    "substitution_key = generate_substitution_key()\n",
    "print(\"Substitution Key:\", substitution_key)\n",
    "\n",
    "message = \"Hello, this is a secret message!\"\n",
    "encrypted_message = encrypt_message(message, substitution_key)\n",
    "print(\"Encrypted Message:\", encrypted_message)\n",
    "\n",
    "decrypted_message = decrypt_message(encrypted_message, substitution_key)\n",
    "print(\"Decrypted Message:\", decrypted_message)\n"
   ]
  },
  {
   "cell_type": "code",
   "execution_count": 2,
   "id": "14999b6b",
   "metadata": {},
   "outputs": [
    {
     "name": "stdout",
     "output_type": "stream",
     "text": [
      "@,nOn^VUUh\n"
     ]
    }
   ],
   "source": [
    "import random\n",
    "import string\n",
    "\n",
    "def generate_password(length):\n",
    "    characters = string.ascii_letters + string.digits + string.punctuation\n",
    "    password = ''.join(random.choice(characters) for i in range(length))\n",
    "    return password\n",
    "\n",
    "# Example: generate a password with length 12\n",
    "password = generate_password(10)\n",
    "print(password)\n"
   ]
  },
  {
   "cell_type": "code",
   "execution_count": null,
   "id": "627cfbd7",
   "metadata": {},
   "outputs": [],
   "source": []
  }
 ],
 "metadata": {
  "kernelspec": {
   "display_name": "Python 3 (ipykernel)",
   "language": "python",
   "name": "python3"
  },
  "language_info": {
   "codemirror_mode": {
    "name": "ipython",
    "version": 3
   },
   "file_extension": ".py",
   "mimetype": "text/x-python",
   "name": "python",
   "nbconvert_exporter": "python",
   "pygments_lexer": "ipython3",
   "version": "3.11.5"
  }
 },
 "nbformat": 4,
 "nbformat_minor": 5
}
